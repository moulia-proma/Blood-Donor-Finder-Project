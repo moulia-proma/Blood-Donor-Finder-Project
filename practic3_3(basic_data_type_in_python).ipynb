{
  "nbformat": 4,
  "nbformat_minor": 0,
  "metadata": {
    "colab": {
      "provenance": [],
      "authorship_tag": "ABX9TyPrroueKzDrXSKXrGklh1Ps"
    },
    "kernelspec": {
      "name": "python3",
      "display_name": "Python 3"
    },
    "language_info": {
      "name": "python"
    }
  },
  "cells": [
    {
      "cell_type": "markdown",
      "source": [
        "#Basic data types"
      ],
      "metadata": {
        "id": "LjsOkZRlQZLh"
      }
    },
    {
      "cell_type": "markdown",
      "source": [
        "1.integer\n",
        "2.Floating point\n",
        "3.Complex\n",
        "4.Boolean \n",
        "5.\n",
        "String"
      ],
      "metadata": {
        "id": "LB9SV6rLQfzF"
      }
    },
    {
      "cell_type": "code",
      "source": [
        "#complex number\n",
        "c= 1+3j #j squre =-1\n",
        "print(c)\n",
        "type(c)"
      ],
      "metadata": {
        "colab": {
          "base_uri": "https://localhost:8080/"
        },
        "id": "blgyz7RZQe8M",
        "outputId": "ebad3434-7ba4-4e6c-a828-c7a27c97c71f"
      },
      "execution_count": 3,
      "outputs": [
        {
          "output_type": "stream",
          "name": "stdout",
          "text": [
            "(1+3j)\n"
          ]
        },
        {
          "output_type": "execute_result",
          "data": {
            "text/plain": [
              "complex"
            ]
          },
          "metadata": {},
          "execution_count": 3
        }
      ]
    },
    {
      "cell_type": "markdown",
      "source": [
        "Converting one type to another"
      ],
      "metadata": {
        "id": "_kBSJyW_RQR6"
      }
    },
    {
      "cell_type": "code",
      "source": [
        "x= 5\n",
        "print(x)\n",
        "type(x)"
      ],
      "metadata": {
        "colab": {
          "base_uri": "https://localhost:8080/"
        },
        "id": "gyMfdvI5RB85",
        "outputId": "69f95013-63a1-450b-9c2d-cea4fe5720fa"
      },
      "execution_count": 5,
      "outputs": [
        {
          "output_type": "stream",
          "name": "stdout",
          "text": [
            "5\n"
          ]
        },
        {
          "output_type": "execute_result",
          "data": {
            "text/plain": [
              "int"
            ]
          },
          "metadata": {},
          "execution_count": 5
        }
      ]
    },
    {
      "cell_type": "code",
      "source": [
        "y = float(x)\n",
        "print(y)\n",
        "type(y)"
      ],
      "metadata": {
        "colab": {
          "base_uri": "https://localhost:8080/"
        },
        "id": "_tvH_8waRhG8",
        "outputId": "7c690069-1d15-4d82-8a2e-b3fb2e1a0101"
      },
      "execution_count": 7,
      "outputs": [
        {
          "output_type": "stream",
          "name": "stdout",
          "text": [
            "5.0\n"
          ]
        },
        {
          "output_type": "execute_result",
          "data": {
            "text/plain": [
              "float"
            ]
          },
          "metadata": {},
          "execution_count": 7
        }
      ]
    },
    {
      "cell_type": "code",
      "source": [
        "#boolean\n",
        "a=7<8\n",
        "print(a)\n",
        "type(a)"
      ],
      "metadata": {
        "colab": {
          "base_uri": "https://localhost:8080/"
        },
        "id": "DARx5itzRozp",
        "outputId": "fd3f1df0-5373-4f34-9e0f-ef94ab273669"
      },
      "execution_count": 11,
      "outputs": [
        {
          "output_type": "stream",
          "name": "stdout",
          "text": [
            "True\n"
          ]
        },
        {
          "output_type": "execute_result",
          "data": {
            "text/plain": [
              "bool"
            ]
          },
          "metadata": {},
          "execution_count": 11
        }
      ]
    },
    {
      "cell_type": "code",
      "source": [
        "#string\n",
        "st = 'proma'\n",
        "print(st*5)"
      ],
      "metadata": {
        "colab": {
          "base_uri": "https://localhost:8080/"
        },
        "id": "r_cLYBKeSNX1",
        "outputId": "d39774cc-ff54-42eb-cef1-70498d03b922"
      },
      "execution_count": 16,
      "outputs": [
        {
          "output_type": "stream",
          "name": "stdout",
          "text": [
            "promapromapromapromaproma\n"
          ]
        }
      ]
    },
    {
      "cell_type": "markdown",
      "source": [
        "slicing"
      ],
      "metadata": {
        "id": "_Dujn-gParkR"
      }
    },
    {
      "cell_type": "code",
      "source": [
        "st = 'programming'\n",
        "print(st[0:6]) # 0 to 6 er age porjonto\n",
        "print(st[0:11:3]) #step 3"
      ],
      "metadata": {
        "colab": {
          "base_uri": "https://localhost:8080/"
        },
        "id": "tHTfZdo1aupa",
        "outputId": "187ff13c-9100-42db-b978-77eea9fe93fb"
      },
      "execution_count": 3,
      "outputs": [
        {
          "output_type": "stream",
          "name": "stdout",
          "text": [
            "progra\n",
            "pgmn\n"
          ]
        }
      ]
    },
    {
      "cell_type": "code",
      "source": [],
      "metadata": {
        "id": "NhuKuBsBa7U8"
      },
      "execution_count": null,
      "outputs": []
    }
  ]
}